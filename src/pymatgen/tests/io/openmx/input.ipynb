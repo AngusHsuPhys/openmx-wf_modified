{
 "cells": [
  {
   "cell_type": "code",
   "execution_count": 6,
   "metadata": {},
   "outputs": [],
   "source": [
    "from pymatgen.io.vasp.inputs import Structure\n",
    "from pymatgen.io.openmx.inputs import System, Species, Atoms, Scf, MD"
   ]
  },
  {
   "cell_type": "markdown",
   "metadata": {},
   "source": [
    "## Write input based on structure and ScfInputSet.yaml"
   ]
  },
  {
   "cell_type": "code",
   "execution_count": 8,
   "metadata": {},
   "outputs": [
    {
     "name": "stdout",
     "output_type": "stream",
     "text": [
      "| system             | species          | atoms                  | scf                    | md               |\n",
      "|--------------------|------------------|------------------------|------------------------|------------------|\n",
      "| system_current_dir | vpss_and_options | fractional_coordinates | kppa                   | md_type          |\n",
      "| level_of_stdout    |                  | up_dn_diff             | force_gamma            | md_max_iter      |\n",
      "| level_of_fileout   |                  |                        | xc_type                | md_time_step     |\n",
      "|                    |                  |                        | spin_polarization      | md_opt_criterion |\n",
      "|                    |                  |                        | eigenvalue_solver      |                  |\n",
      "|                    |                  |                        | mixing_type            |                  |\n",
      "|                    |                  |                        | spin_orbit_coupling    |                  |\n",
      "|                    |                  |                        | electronic_temperature |                  |\n",
      "|                    |                  |                        | energy_cutoff          |                  |\n",
      "|                    |                  |                        | max_iter               |                  |\n",
      "|                    |                  |                        | init_mixing_weight     |                  |\n",
      "|                    |                  |                        | min_mixing_weight      |                  |\n",
      "|                    |                  |                        | max_mixing_weight      |                  |\n",
      "|                    |                  |                        | mixing_history         |                  |\n",
      "|                    |                  |                        | start_pulay            |                  |\n",
      "|                    |                  |                        | every_pulay            |                  |\n",
      "|                    |                  |                        | criterion              |                  |\n",
      "|                    |                  |                        | lapack_dste            |                  |\n",
      "|                    |                  |                        | generation_kpoint      |                  |\n"
     ]
    }
   ],
   "source": [
    "from pymatgen.io.openmx.sets import ScfInputSet\n",
    "import tabulate\n",
    "\n",
    "config = ScfInputSet.CONFIG\n",
    "\n",
    "print(tabulate.tabulate(config, headers=\"keys\", tablefmt=\"github\"))\n"
   ]
  },
  {
   "cell_type": "code",
   "execution_count": 9,
   "metadata": {},
   "outputs": [
    {
     "name": "stdout",
     "output_type": "stream",
     "text": [
      "#\n",
      "# File Name\n",
      "#\n",
      "System.CurrrentDirectory         ./ # default=./\n",
      "System.Name                      GaAs\n",
      "level.of.stdout                   1 # default=1 (1-3)\n",
      "level.of.fileout                  1 # default=1 (0-2)#\n",
      "# Definition of Atomic Species\n",
      "#\n",
      "Species.Number       2\n",
      "<Definition.of.Atomic.Species\n",
      "Ga Ga7.0-s3p2d2 Ga_PBE19\n",
      "As As7.0-s3p2d2 As_PBE19\n",
      "Definition.of.Atomic.Species>#\n",
      "# Atoms\n",
      "#\n",
      "Atoms.Number         8\n",
      "Atoms.SpeciesAndCoordinates.Unit   FRAC # Ang|AU\n",
      "<Atoms.SpeciesAndCoordinates\n",
      "1 Ga 0.0 0.0 0.0 7.0 6.0\n",
      "2 Ga 0.5 0.5 0.0 7.0 6.0\n",
      "3 Ga 0.5 0.0 0.5 7.0 6.0\n",
      "4 Ga 0.0 0.5 0.5 7.0 6.0\n",
      "5 As 0.25 0.25 0.25 7.5 7.5\n",
      "6 As 0.25 0.75 0.75 7.5 7.5\n",
      "7 As 0.75 0.75 0.25 7.5 7.5\n",
      "8 As 0.75 0.25 0.75 7.5 7.5\n",
      "Atoms.SpeciesAndCoordinates>\n",
      "Atoms.UnitVectors.Unit             Ang  # Ang|AU\n",
      "<Atoms.UnitVectors\n",
      "5.7501821 0.0 4e-16\n",
      "9e-16 5.7501821 4e-16\n",
      "0.0 0.0 5.7501821\n",
      "Atoms.UnitVectors>#\n",
      "# SCF or Electronic System\n",
      "#\n",
      "scf.XcType                 GGA-PBE # LDA|LSDA-CA|LSDA-PW|GGA-PBE\n",
      "scf.SpinPolarization       off # On|Off|NC\n",
      "scf.SpinOrbit.Coupling     off # On|Off, default=off\n",
      "scf.ElectronicTemperature  300 # default=300 (K)\n",
      "scf.energycutoff           200  # default=150 (Ry)\n",
      "scf.maxIter                40       # default=40\n",
      "scf.EigenvalueSolver       Band # DC|GDC|Cluster|Band\n",
      "scf.Kgrid                  2 2 2         # means n1 x n2 x n3\n",
      "scf.Generation.Kpoint      regular # regular|MP\n",
      "scf.Mixing.Type            Simple   # Simple|Rmm-Diis|Gr-Pulay|Kerker|Rmm-Diisk\n",
      "scf.Init.Mixing.Weight     0.3 # default=0.30\n",
      "scf.Min.Mixing.Weight      0.001 # default=0.001\n",
      "scf.Max.Mixing.Weight      0.4 # default=0.40\n",
      "scf.Mixing.History         5 # default=5\n",
      "scf.Mixing.StartPulay      6 # default=6\n",
      "scf.Mixing.EveryPulay      6 # default=6\n",
      "scf.criterion              1e-06     # default=1.0e-6 (Hartree)\n",
      "scf.lapack.dste            dstevx # dstevx|dstedc|dstegr,default=dstevx#\n",
      "# MD or Geometry Optimization\n",
      "#\n",
      "MD.Type                      nomad       # Nomd|Constant_Energy_MD|Opt\n",
      "MD.maxIter                    1        # default=1\n",
      "MD.TimeStep                   0.5        # default=0.5 (fs)\n",
      "MD.Opt.criterion              0.0001        # default=1.0e-4 (Hartree/bohr)\n"
     ]
    }
   ],
   "source": [
    "scf_input_set = ScfInputSet()\n",
    "structure = Structure.from_file(\"POSCAR\")\n",
    "print(scf_input_set.write_input(\"GaAs\", structure))"
   ]
  },
  {
   "cell_type": "markdown",
   "metadata": {},
   "source": [
    "## System"
   ]
  },
  {
   "cell_type": "code",
   "execution_count": 2,
   "metadata": {},
   "outputs": [
    {
     "name": "stdout",
     "output_type": "stream",
     "text": [
      "#\n",
      "# File Name\n",
      "#\n",
      "System.CurrrentDirectory         . # default=./\n",
      "System.Name                      GaAs\n",
      "level.of.stdout                   1 # default=1 (1-3)\n",
      "level.of.fileout                  1 # default=1 (0-2)\n"
     ]
    }
   ],
   "source": [
    "system = System(system_current_dir=\".\", system_name=\"GaAs\", level_of_stdout=1, level_of_fileout=1)\n",
    "print(system.get_string())"
   ]
  },
  {
   "cell_type": "markdown",
   "metadata": {},
   "source": [
    "## Species"
   ]
  },
  {
   "cell_type": "code",
   "execution_count": 3,
   "metadata": {},
   "outputs": [
    {
     "name": "stdout",
     "output_type": "stream",
     "text": [
      "#\n",
      "# Definition of Atomic Species\n",
      "#\n",
      "Species.Number       2\n",
      "<Definition.of.Atomic.Species\n",
      "Ga Ga7.0-s2p2d1 Ga_PBE19\n",
      "As As7.0-s3p2d1 As_PBE19\n",
      "Definition.of.Atomic.Species>\n"
     ]
    }
   ],
   "source": [
    "vpss_and_options = {\"Ga_PBE19\": \"Quick\", \"As_PBE19\": \"Quick\"}\n",
    "species = Species.get_species_from_vps_and_option(vpss_and_options)\n",
    "print(species.get_string())"
   ]
  },
  {
   "cell_type": "markdown",
   "metadata": {},
   "source": [
    "## Atoms"
   ]
  },
  {
   "cell_type": "code",
   "execution_count": 4,
   "metadata": {},
   "outputs": [
    {
     "name": "stdout",
     "output_type": "stream",
     "text": [
      "#\n",
      "# Atoms\n",
      "#\n",
      "Atoms.Number         8\n",
      "Atoms.SpeciesAndCoordinates.Unit   FRAC # Ang|AU\n",
      "<Atoms.SpeciesAndCoordinates\n",
      "1 Ga 0.0 0.0 0.0 6.75 6.25\n",
      "2 Ga 0.5 0.5 0.0 6.75 6.25\n",
      "3 Ga 0.5 0.0 0.5 6.75 6.25\n",
      "4 Ga 0.0 0.5 0.5 6.75 6.25\n",
      "5 As 0.25 0.25 0.25 7.0 8.0\n",
      "6 As 0.25 0.75 0.75 7.0 8.0\n",
      "7 As 0.75 0.75 0.25 7.0 8.0\n",
      "8 As 0.75 0.25 0.75 7.0 8.0\n",
      "Atoms.SpeciesAndCoordinates>\n",
      "Atoms.UnitVectors.Unit             Ang  # Ang|AU\n",
      "<Atoms.UnitVectors\n",
      "5.7501821 0.0 4e-16\n",
      "9e-16 5.7501821 4e-16\n",
      "0.0 0.0 5.7501821\n",
      "Atoms.UnitVectors>\n"
     ]
    }
   ],
   "source": [
    "MODULE_DIR = '.'  # Replace with the actual directory\n",
    "structure = Structure.from_file(f\"{MODULE_DIR}/POSCAR\")\n",
    "vpss = [\"Ga_PBE19\", \"As_PBE19\"]\n",
    "print(Atoms.get_atoms_from_pmg_structure(structure, vpss, fractional_coordinates=True, up_dn_diff={\"Ga\": 0.5, \"As\": -1}).get_string())"
   ]
  },
  {
   "cell_type": "markdown",
   "metadata": {},
   "source": [
    "## Scf"
   ]
  },
  {
   "cell_type": "code",
   "execution_count": 5,
   "metadata": {},
   "outputs": [
    {
     "name": "stdout",
     "output_type": "stream",
     "text": [
      "#\n",
      "# SCF or Electronic System\n",
      "#\n",
      "scf.XcType                 GGA-PBE # LDA|LSDA-CA|LSDA-PW|GGA-PBE\n",
      "scf.SpinPolarization       off # On|Off|NC\n",
      "scf.SpinOrbit.Coupling     off # On|Off, default=off\n",
      "scf.ElectronicTemperature  300 # default=300 (K)\n",
      "scf.energycutoff           200  # default=150 (Ry)\n",
      "scf.maxIter                40       # default=40\n",
      "scf.EigenvalueSolver       Band # DC|GDC|Cluster|Band\n",
      "scf.Kgrid                  2 2 2         # means n1 x n2 x n3\n",
      "scf.Generation.Kpoint      regular # regular|MP\n",
      "scf.Mixing.Type            Simple   # Simple|Rmm-Diis|Gr-Pulay|Kerker|Rmm-Diisk\n",
      "scf.Init.Mixing.Weight     0.3 # default=0.30\n",
      "scf.Min.Mixing.Weight      0.001 # default=0.001\n",
      "scf.Max.Mixing.Weight      0.4 # default=0.40\n",
      "scf.Mixing.History         5 # default=5\n",
      "scf.Mixing.StartPulay      6 # default=6\n",
      "scf.Mixing.EveryPulay      6 # default=6\n",
      "scf.criterion              1e-06     # default=1.0e-6 (Hartree)\n",
      "scf.lapack.dste            dstevx # dstevx|dstedc|dstegr,default=dstevx\n"
     ]
    }
   ],
   "source": [
    "structure = Structure.from_file(f\"{MODULE_DIR}/POSCAR\")\n",
    "scf = Scf.get_scf_with_pmg_kgrid(structure, kppa=64, force_gamma=False)\n",
    "print(scf.get_string())"
   ]
  },
  {
   "cell_type": "markdown",
   "metadata": {},
   "source": [
    "## MD"
   ]
  },
  {
   "cell_type": "code",
   "execution_count": 6,
   "metadata": {},
   "outputs": [
    {
     "name": "stdout",
     "output_type": "stream",
     "text": [
      "#\n",
      "# MD or Geometry Optimization\n",
      "#\n",
      "MD.Type                      nomd       # Nomd|Constant_Energy_MD|Opt\n",
      "MD.maxIter                    1        # default=1\n",
      "MD.TimeStep                   0.5        # default=0.5 (fs)\n",
      "MD.Opt.criterion              0.0001        # default=1.0e-4 (Hartree/bohr)\n"
     ]
    }
   ],
   "source": [
    "md = MD(md_type=\"nomd\", md_max_iter=1, md_time_step=0.5, md_opt_criterion=1.0e-4)\n",
    "print(md.get_string())"
   ]
  },
  {
   "cell_type": "markdown",
   "metadata": {},
   "source": [
    "## PAO TABLE"
   ]
  },
  {
   "cell_type": "code",
   "execution_count": 9,
   "metadata": {},
   "outputs": [
    {
     "name": "stdout",
     "output_type": "stream",
     "text": [
      "| Precise         | Quick          | Standard       | VPS       |   Valence electrons |\n",
      "|-----------------|----------------|----------------|-----------|---------------------|\n",
      "| Kr10.0-s2p2d1f1 | Kr10.0-s1p1    | Kr10.0-s2p1d1  | E         |                   0 |\n",
      "| H7.0-s2p2d1     | H5.0-s2        | H6.0-s2p1      | H_PBE19   |                   1 |\n",
      "| He10.0-s2p2d1   | He8.0-s1p1     | He8.0-s2p1     | He_PBE19  |                   2 |\n",
      "| Li8.0-s3p2d1    | Li8.0-s3p1     | Li8.0-s3p2     | Li_PBE19  |                   3 |\n",
      "| Be7.0-s3p2d1    | Be7.0-s2p1     | Be7.0-s2p2     | Be_PBE19  |                   2 |\n",
      "| B7.0-s3p2d2     | B7.0-s2p2      | B7.0-s2p2d1    | B_PBE19   |                   3 |\n",
      "| C6.0-s3p2d2     | C6.0-s2p2      | C6.0-s2p2d1    | C_PBE19   |                   4 |\n",
      "| N6.0-s3p2d2     | N6.0-s2p2      | N6.0-s2p2d1    | N_PBE19   |                   5 |\n",
      "| O6.0-s3p2d2     | O6.0-s2p2      | O6.0-s2p2d1    | O_PBE19   |                   6 |\n",
      "| F6.0-s3p3d2f1   | F6.0-s2p2      | F6.0-s2p2d1    | F_PBE19   |                   7 |\n",
      "| Ne9.0-s3p2d2    | Ne9.0-s2p2     | Ne9.0-s2p2d1   | Ne_PBE19  |                   8 |\n",
      "| Na9.0-s3p2d2    | Na9.0-s3p2     | Na9.0-s3p2d1   | Na_PBE19  |                   9 |\n",
      "| Mg9.0-s3p2d2    | Mg9.0-s2p2     | Mg9.0-s3p2d1   | Mg_PBE19  |                   8 |\n",
      "| Al7.0-s3p2d2    | Al7.0-s2p1d1   | Al7.0-s2p2d1   | Al_PBE19  |                   3 |\n",
      "| Si7.0-s3p3d2    | Si7.0-s2p1d1   | Si7.0-s2p2d1   | Si_PBE19  |                   4 |\n",
      "| P7.0-s3p2d2f1   | P7.0-s2p2d1    | P7.0-s2p2d1f1  | P_PBE19   |                   5 |\n",
      "| S7.0-s3p2d2f1   | S7.0-s2p2d1    | S7.0-s2p2d1f1  | S_PBE19   |                   6 |\n",
      "| Cl7.0-s3p2d2f1  | Cl7.0-s2p2d1   | Cl7.0-s2p2d1f1 | Cl_PBE19  |                   7 |\n",
      "| Ar9.0-s3p2d2f1  | Ar9.0-s2p2d1   | Ar9.0-s2p2d1f1 | Ar_PBE19  |                   8 |\n",
      "| K10.0-s3p2d2    | K10.0-s3p2     | K10.0-s3p2d1   | K_PBE19   |                   9 |\n",
      "| Ca9.0-s3p2d2    | Ca9.0-s3p2     | Ca9.0-s3p2d1   | Ca_PBE19  |                  10 |\n",
      "| Sc9.0-s3p2d2    | Sc9.0-s2p2d1   | Sc9.0-s3p2d1   | Sc_PBE19  |                  11 |\n",
      "| Ti7.0-s3p2d2f1  | Ti7.0-s2p2d1   | Ti7.0-s3p2d1   | Ti_PBE19  |                  12 |\n",
      "| V6.0-s3p2d2f1   | V6.0-s2p2d1    | V6.0-s3p2d1    | V_PBE19   |                  13 |\n",
      "| Cr6.0-s3p2d2f1  | Cr6.0-s2p2d1   | Cr6.0-s3p2d1   | Cr_PBE19  |                  14 |\n",
      "| Mn6.0-s3p2d2f1  | Mn6.0-s2p2d1   | Mn6.0-s3p2d1   | Mn_PBE19  |                  15 |\n",
      "| Fe5.5H-s3p2d2f1 | Fe5.5H-s2p2d1  | Fe5.5H-s3p2d1  | Fe_PBE19H |                  16 |\n",
      "| Fe6.0S-s3p2d2f1 | Fe6.0S-s2p2d1  | Fe6.0S-s3p2d1  | Fe_PBE19S |                  14 |\n",
      "| Co6.0H-s3p2d2f1 | Co6.0H-s2p2d1  | Co6.0H-s3p2d1  | Co_PBE19H |                  17 |\n",
      "| Co6.0S-s3p2d2f1 | Co6.0S-s2p2d1  | Co6.0S-s3p2d1  | Co_PBE19S |                  15 |\n",
      "| Ni6.0H-s3p2d2f1 | Ni6.0H-s2p2d1  | Ni6.0H-s3p2d1  | Ni_PBE19H |                  18 |\n",
      "| Ni6.0S-s3p2d2f1 | Ni6.0S-s2p2d1  | Ni6.0S-s3p2d1  | Ni_PBE19S |                  16 |\n",
      "| Cu6.0H-s3p2d2f1 | Cu6.0H-s2p2d1  | Cu6.0H-s3p2d1  | Cu_PBE19H |                  19 |\n",
      "| Cu6.0S-s3p2d2f1 | Cu6.0S-s2p1d1  | Cu6.0S-s3p2d1  | Cu_PBE19S |                  11 |\n",
      "| Zn6.0H-s3p2d2f1 | Zn6.0H-s2p2d1  | Zn6.0H-s3p2d1  | Zn_PBE19H |                  20 |\n",
      "| Zn6.0S-s3p2d2f1 | Zn6.0S-s2p1d1  | Zn6.0S-s3p2d1  | Zn_PBE19S |                  12 |\n",
      "| Ga7.0-s3p2d2f1  | Ga7.0-s2p2d1   | Ga7.0-s3p2d2   | Ga_PBE19  |                  13 |\n",
      "| Ge7.0-s3p2d2f1  | Ge7.0-s2p1d1   | Ge7.0-s3p2d2   | Ge_PBE19  |                   4 |\n",
      "| As7.0-s3p2d2f1  | As7.0-s3p2d1   | As7.0-s3p2d2   | As_PBE19  |                  15 |\n",
      "| Se7.0-s3p2d2f1  | Se7.0-s3p2d1   | Se7.0-s3p2d2   | Se_PBE19  |                   6 |\n",
      "| Br7.0-s3p2d2f1  | Br7.0-s3p2d1   | Br7.0-s3p2d2   | Br_PBE19  |                   7 |\n",
      "| Kr10.0-s3p2d2f1 | Kr10.0-s2p2d1  | Kr10.0-s3p2d2  | Kr_PBE19  |                   8 |\n",
      "| Rb11.0-s3p2d2f1 | Rb11.0-s2p2d1  | Rb11.0-s3p2d2  | Rb_PBE19  |                   9 |\n",
      "| Sr10.0-s3p3d2f1 | Sr10.0-s2p2d1  | Sr10.0-s3p2d2  | Sr_PBE19  |                  10 |\n",
      "| Y10.0-s3p3d2f1  | Y10.0-s3p2d1   | Y10.0-s3p2d2   | Y_PBE19   |                  11 |\n",
      "| Zr7.0-s3p2d2f1  | Zr7.0-s3p2d1   | Zr7.0-s3p2d2   | Zr_PBE19  |                  12 |\n",
      "| Nb7.0-s3p2d2f1  | Nb7.0-s3p2d1   | Nb7.0-s3p2d2   | Nb_PBE19  |                  13 |\n",
      "| Mo7.0-s3p2d2f1  | Mo7.0-s3p2d1   | Mo7.0-s3p2d2   | Mo_PBE19  |                  14 |\n",
      "| Tc7.0-s3p2d2f1  | Tc7.0-s3p2d1   | Tc7.0-s3p2d2   | Tc_PBE19  |                  15 |\n",
      "| Ru7.0-s3p2d2f1  | Ru7.0-s3p2d1   | Ru7.0-s3p2d2   | Ru_PBE19  |                  14 |\n",
      "| Rh7.0-s3p2d2f1  | Rh7.0-s3p2d1   | Rh7.0-s3p2d2   | Rh_PBE19  |                  15 |\n",
      "| Pd7.0-s3p2d2f1  | Pd7.0-s3p2d1   | Pd7.0-s3p2d2   | Pd_PBE19  |                  16 |\n",
      "| Ag7.0-s3p2d2f1  | Ag7.0-s3p2d1   | Ag7.0-s3p2d2   | Ag_PBE19  |                  17 |\n",
      "| Cd7.0-s3p2d2f1  | Cd7.0-s3p2d1   | Cd7.0-s3p2d2   | Cd_PBE19  |                  12 |\n",
      "| In7.0-s3p2d2f1  | In7.0-s3p2d1   | In7.0-s3p2d2   | In_PBE19  |                  13 |\n",
      "| Sn7.0-s3p2d2f1  | Sn7.0-s3p2d1   | Sn7.0-s3p2d2   | Sn_PBE19  |                  14 |\n",
      "| Sb7.0-s3p2d2f1  | Sb7.0-s3p2d1   | Sb7.0-s3p2d2   | Sb_PBE19  |                  15 |\n",
      "| Te7.0-s3p3d2f1  | Te7.0-s3p2d2   | Te7.0-s3p2d2f1 | Te_PBE19  |                  16 |\n",
      "| I7.0-s3p3d2f1   | I7.0-s3p2d2    | I7.0-s3p2d2f1  | I_PBE19   |                   7 |\n",
      "| Xe11.0-s3p2d2f1 | Xe11.0-s3p2d1  | Xe11.0-s3p2d2  | Xe_PBE19  |                   8 |\n",
      "| Cs12.0-s3p2d2f1 | Cs12.0-s3p2d1  | Cs12.0-s3p2d2  | Cs_PBE19  |                   9 |\n",
      "| Ba10.0-s3p2d2f1 | Ba10.0-s3p2d1  | Ba10.0-s3p2d2  | Ba_PBE19  |                  10 |\n",
      "| La8.0-s3p3d2f1  | La8.0-s3p2d1f1 | La8.0-s3p2d2f1 | La_PBE19  |                  11 |\n",
      "| Ce8.0-s3p3d2f1  | Ce8.0-s3p2d1f1 | Ce8.0-s3p2d2f1 | Ce_PBE19  |                  12 |\n",
      "| Pr8.0-s3p3d2f1  | Pr8.0-s3p2d1f1 | Pr8.0-s3p2d2f1 | Pr_PBE19  |                  13 |\n",
      "| Nd8.0-s3p3d2f1  | Nd8.0-s3p2d1f1 | Nd8.0-s3p2d2f1 | Nd_PBE19  |                  14 |\n",
      "| Pm8.0-s3p3d2f1  | Pm8.0-s3p2d1f1 | Pm8.0-s3p2d2f1 | Pm_PBE19  |                  15 |\n",
      "| Sm8.0-s3p3d2f1  | Sm8.0-s3p2d1f1 | Sm8.0-s3p2d2f1 | Sm_PBE19  |                  16 |\n",
      "| Dy8.0-s3p3d2f1  | Dy8.0-s3p2d1f1 | Dy8.0-s3p2d2f1 | Dy_PBE19  |                  20 |\n",
      "| Ho8.0-s3p3d2f1  | Ho8.0-s3p2d1f1 | Ho8.0-s3p2d2f1 | Ho_PBE19  |                  21 |\n",
      "| Lu8.0-s3p3d2f1  | Lu8.0-s3p2d2   | Lu8.0-s3p2d2f1 | Lu_PBE19  |                  11 |\n",
      "| Hf9.0-s3p3d2f1  | Hf9.0-s3p2d2   | Hf9.0-s3p2d2f1 | Hf_PBE19  |                  12 |\n",
      "| Ta7.0-s3p3d2f1  | Ta7.0-s3p2d2   | Ta7.0-s3p2d2f1 | Ta_PBE19  |                  13 |\n",
      "| W7.0-s3p3d2f1   | W7.0-s3p2d2    | W7.0-s3p2d2f1  | W_PBE19   |                  12 |\n",
      "| Re7.0-s3p3d2f1  | Re7.0-s3p2d2   | Re7.0-s3p2d2f1 | Re_PBE19  |                  15 |\n",
      "| Os7.0-s3p3d2f1  | Os7.0-s3p2d2   | Os7.0-s3p2d2f1 | Os_PBE19  |                  14 |\n",
      "| Ir7.0-s3p3d2f1  | Ir7.0-s3p2d2   | Ir7.0-s3p2d2f1 | Ir_PBE19  |                  15 |\n",
      "| Pt7.0-s3p3d2f1  | Pt7.0-s3p2d2   | Pt7.0-s3p2d2f1 | Pt_PBE19  |                  16 |\n",
      "| Au7.0-s3p3d2f1  | Au7.0-s3p2d2   | Au7.0-s3p2d2f1 | Au_PBE19  |                  17 |\n",
      "| Hg8.0-s3p3d2f1  | Hg8.0-s3p2d2   | Hg8.0-s3p2d2f1 | Hg_PBE19  |                  18 |\n",
      "| Tl8.0-s3p3d2f1  | Tl8.0-s3p2d2   | Tl8.0-s3p2d2f1 | Tl_PBE19  |                  19 |\n",
      "| Pb8.0-s3p3d2f1  | Pb8.0-s3p2d2   | Pb8.0-s3p2d2f1 | Pb_PBE19  |                  14 |\n",
      "| Bi8.0-s3p3d2f1  | Bi8.0-s3p2d2   | Bi8.0-s3p2d2f1 | Bi_PBE19  |                  15 |\n"
     ]
    }
   ],
   "source": [
    "from pymatgen.io.openmx.inputs import PAO_TABLE\n",
    "import tabulate\n",
    "\n",
    "print(tabulate.tabulate(PAO_TABLE, headers=\"keys\", tablefmt=\"github\"))"
   ]
  }
 ],
 "metadata": {
  "kernelspec": {
   "display_name": "Python 3",
   "language": "python",
   "name": "python3"
  },
  "language_info": {
   "codemirror_mode": {
    "name": "ipython",
    "version": 3
   },
   "file_extension": ".py",
   "mimetype": "text/x-python",
   "name": "python",
   "nbconvert_exporter": "python",
   "pygments_lexer": "ipython3",
   "version": "3.9.2"
  }
 },
 "nbformat": 4,
 "nbformat_minor": 4
}
